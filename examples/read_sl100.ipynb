{
 "cells": [
  {
   "cell_type": "code",
   "execution_count": 1,
   "metadata": {},
   "outputs": [],
   "source": [
    "import sys, os\n",
    "sys.path.insert(0, os.path.abspath(\"../src\"))\n",
    "import lpkit.read_sl1000 as sl1000"
   ]
  },
  {
   "cell_type": "code",
   "execution_count": 4,
   "metadata": {},
   "outputs": [],
   "source": [
    "bpath = '../data'\n",
    "fpath = os.path.join(bpath,'CB00117.csv')\n",
    "#fpath = '../data/CB0020.csv'\n",
    "df, metadata = sl1000.read_yokogawa_csv(fpath,names=['I','V'])\n",
    "npz_file = '../data/20250206-He-plasma-preanode-90V-increased-ip.npz'\n",
    "sl1000.save_npz_file(df,metadata,npz_file)"
   ]
  }
 ],
 "metadata": {
  "kernelspec": {
   "display_name": "py312",
   "language": "python",
   "name": "python3"
  },
  "language_info": {
   "codemirror_mode": {
    "name": "ipython",
    "version": 3
   },
   "file_extension": ".py",
   "mimetype": "text/x-python",
   "name": "python",
   "nbconvert_exporter": "python",
   "pygments_lexer": "ipython3",
   "version": "3.12.8"
  }
 },
 "nbformat": 4,
 "nbformat_minor": 2
}
